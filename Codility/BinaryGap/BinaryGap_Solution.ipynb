{
 "cells": [
  {
   "cell_type": "code",
   "execution_count": 113,
   "id": "4fcd454c",
   "metadata": {},
   "outputs": [],
   "source": [
    "def solution(N):\n",
    "    binary = format(N,'b')\n",
    "    binary = [int(x) for x in binary]\n",
    "    max_gap = 0\n",
    "    for i in range(1,len(binary)):\n",
    "        if (binary[i] == 0) and (binary[i-1]==1):\n",
    "            gap = 0\n",
    "            for j in range(i,len(binary)):\n",
    "                if binary[j]==1:\n",
    "                    max_gap = max(max_gap,gap)\n",
    "                    break\n",
    "                elif binary[j] == 0:\n",
    "                    gap = gap + 1\n",
    "                    if (j == len(binary)-1):\n",
    "                        gap = 0     \n",
    "            max_gap = max(max_gap,gap)\n",
    "    return(max_gap)"
   ]
  }
 ],
 "metadata": {
  "kernelspec": {
   "display_name": "Python 3",
   "language": "python",
   "name": "python3"
  },
  "language_info": {
   "codemirror_mode": {
    "name": "ipython",
    "version": 3
   },
   "file_extension": ".py",
   "mimetype": "text/x-python",
   "name": "python",
   "nbconvert_exporter": "python",
   "pygments_lexer": "ipython3",
   "version": "3.7.6"
  }
 },
 "nbformat": 4,
 "nbformat_minor": 5
}
